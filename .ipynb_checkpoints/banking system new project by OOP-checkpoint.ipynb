{
 "cells": [
  {
   "cell_type": "markdown",
   "id": "2dcb91ff-49ad-4ae7-a854-d4cf77cbb861",
   "metadata": {},
   "source": [
    "# New_project from SMIT on Banking system\n",
    "   -9 january\n",
    "   -"
   ]
  },
  {
   "cell_type": "code",
   "execution_count": 3,
   "id": "df393b02-084c-4bfc-8d91-4a06ea252eb0",
   "metadata": {},
   "outputs": [
    {
     "name": "stdout",
     "output_type": "stream",
     "text": [
      "\n",
      "Bank Menu\n",
      "1. Open Account\n",
      "2. Deposit Money\n",
      "3. Withdraw Money\n",
      "4. Transfer Money\n",
      "5. Check Balance\n",
      "6. Print Statement\n",
      "7. Admin Functions\n",
      "8. Exit\n"
     ]
    },
    {
     "name": "stdin",
     "output_type": "stream",
     "text": [
      "Please enter your choice:  2\n",
      "Enter account number:  2222\n",
      "Enter amount to deposit:  20000\n"
     ]
    },
    {
     "name": "stdout",
     "output_type": "stream",
     "text": [
      "Account not found.\n",
      "\n",
      "Bank Menu\n",
      "1. Open Account\n",
      "2. Deposit Money\n",
      "3. Withdraw Money\n",
      "4. Transfer Money\n",
      "5. Check Balance\n",
      "6. Print Statement\n",
      "7. Admin Functions\n",
      "8. Exit\n"
     ]
    },
    {
     "name": "stdin",
     "output_type": "stream",
     "text": [
      "Please enter your choice:  1\n",
      "Enter account holder name:  wadod satakzai\n"
     ]
    },
    {
     "name": "stdout",
     "output_type": "stream",
     "text": [
      "Account successfully created for wadod satakzai with Account Number: 1\n",
      "\n",
      "Bank Menu\n",
      "1. Open Account\n",
      "2. Deposit Money\n",
      "3. Withdraw Money\n",
      "4. Transfer Money\n",
      "5. Check Balance\n",
      "6. Print Statement\n",
      "7. Admin Functions\n",
      "8. Exit\n"
     ]
    },
    {
     "name": "stdin",
     "output_type": "stream",
     "text": [
      "Please enter your choice:  2\n",
      "Enter account number:  1\n",
      "Enter amount to deposit:  20000000\n"
     ]
    },
    {
     "name": "stdout",
     "output_type": "stream",
     "text": [
      "The RS20000000.00 has been successfully added to your account.\n",
      "\n",
      "Bank Menu\n",
      "1. Open Account\n",
      "2. Deposit Money\n",
      "3. Withdraw Money\n",
      "4. Transfer Money\n",
      "5. Check Balance\n",
      "6. Print Statement\n",
      "7. Admin Functions\n",
      "8. Exit\n"
     ]
    },
    {
     "name": "stdin",
     "output_type": "stream",
     "text": [
      "Please enter your choice:  5\n",
      "Enter account number:  1\n"
     ]
    },
    {
     "name": "stdout",
     "output_type": "stream",
     "text": [
      "Balance for Account 1: RS20000000.00\n",
      "\n",
      "Bank Menu\n",
      "1. Open Account\n",
      "2. Deposit Money\n",
      "3. Withdraw Money\n",
      "4. Transfer Money\n",
      "5. Check Balance\n",
      "6. Print Statement\n",
      "7. Admin Functions\n",
      "8. Exit\n"
     ]
    },
    {
     "name": "stdin",
     "output_type": "stream",
     "text": [
      "Please enter your choice:  3\n",
      "Enter account number:  1\n",
      "Enter amount to withdraw:  12000\n"
     ]
    },
    {
     "name": "stdout",
     "output_type": "stream",
     "text": [
      "The RS12000.00 has been successfully withdrawn from your account.\n",
      "\n",
      "Bank Menu\n",
      "1. Open Account\n",
      "2. Deposit Money\n",
      "3. Withdraw Money\n",
      "4. Transfer Money\n",
      "5. Check Balance\n",
      "6. Print Statement\n",
      "7. Admin Functions\n",
      "8. Exit\n"
     ]
    },
    {
     "name": "stdin",
     "output_type": "stream",
     "text": [
      "Please enter your choice:  6\n",
      "Enter account number:  1\n"
     ]
    },
    {
     "name": "stdout",
     "output_type": "stream",
     "text": [
      "Transaction History for wadod satakzai (Account Number: 1):\n",
      "Deposited RS20000000.00\n",
      "Withdrew RS12000.00\n",
      "\n",
      "Bank Menu\n",
      "1. Open Account\n",
      "2. Deposit Money\n",
      "3. Withdraw Money\n",
      "4. Transfer Money\n",
      "5. Check Balance\n",
      "6. Print Statement\n",
      "7. Admin Functions\n",
      "8. Exit\n"
     ]
    },
    {
     "name": "stdin",
     "output_type": "stream",
     "text": [
      "Please enter your choice:  8\n"
     ]
    },
    {
     "name": "stdout",
     "output_type": "stream",
     "text": [
      "Thanks for using SMIT Bank... Goodbye!\n",
      " BE carefull our officil number is #2222\n"
     ]
    }
   ],
   "source": [
    "class BankAccount:\n",
    "    def __init__(self, account_number, account_holder, balance=0.0):\n",
    "        self.account_number = account_number \n",
    "        self.account_holder = account_holder  \n",
    "        self.balance = balance  \n",
    "        self.transactions = [] \n",
    "\n",
    "    def deposit(self, amount):\n",
    "\n",
    "        if amount > 0:\n",
    "            self.balance += amount  \n",
    "            self.add_transaction(f\"Deposited RS{amount:.2f}\")  \n",
    "            print(f\"The RS{amount:.2f} has been successfully added to your account.\")\n",
    "        else:\n",
    "            print(f\"The RS{amount:.2f} is an invalid amount!\")  # Error message for invalid deposit\n",
    "\n",
    "    def withdraw(self, amount):\n",
    "        \n",
    "        if amount <= self.balance:\n",
    "            self.balance -= amount  \n",
    "            self.add_transaction(f\"Withdrew RS{amount:.2f}\")  \n",
    "            print(f\"The RS{amount:.2f} has been successfully withdrawn from your account.\")\n",
    "        else:\n",
    "            print(\"Insufficient Balance!\")  \n",
    "\n",
    "    def check_balance(self):\n",
    "        \n",
    "        return self.balance\n",
    "\n",
    "    def add_transaction(self, description):\n",
    "        \n",
    "        self.transactions.append(description)\n",
    "\n",
    "    def print_statement(self):\n",
    "        \n",
    "        print(f\"Transaction History for {self.account_holder} (Account Number: {self.account_number}):\")\n",
    "        if not self.transactions:\n",
    "            print(\"No transactions yet.\")\n",
    "        else:\n",
    "            for transaction in self.transactions:\n",
    "                print(transaction)\n",
    "\n",
    "\n",
    "class Bank:\n",
    "    def __init__(self):\n",
    "        self.accounts = {}  \n",
    "\n",
    "    def open_account(self, account_holder):\n",
    "        account_number = len(self.accounts) + 1  \n",
    "        new_account = BankAccount(account_number, account_holder)\n",
    "        self.accounts[account_number] = new_account  \n",
    "        print(f\"Account successfully created for {account_holder} with Account Number: {account_number}\")\n",
    "        return new_account  \n",
    "\n",
    "    def get_account(self, account_number):\n",
    "        \n",
    "        return self.accounts.get(account_number, None)\n",
    "\n",
    "    def transfer(self, sender_account_number, receiver_account_number, amount):\n",
    "        \n",
    "        sender_account = self.get_account(sender_account_number)\n",
    "        receiver_account = self.get_account(receiver_account_number)\n",
    "\n",
    "        if sender_account and receiver_account:\n",
    "            if sender_account.balance >= amount:\n",
    "                sender_account.withdraw(amount)\n",
    "                receiver_account.deposit(amount)\n",
    "                print(f\"Transfer of RS{amount:.2f} from Account {sender_account_number} to Account {receiver_account_number} successful.\")\n",
    "            else:\n",
    "                print(\"Insufficient funds in sender's account!\")\n",
    "        else:\n",
    "            print(\"Invalid account number(s) provided.\")\n",
    "\n",
    "    def admin_check_total_deposit(self):\n",
    "        \n",
    "        total_deposit = sum(account.balance for account in self.accounts.values())\n",
    "        return total_deposit\n",
    "\n",
    "    def admin_check_total_accounts(self):\n",
    "       \n",
    "        return len(self.accounts)\n",
    "\n",
    "    def menu(self):\n",
    "        while True:\n",
    "            print(\"\\nBank Menu\")\n",
    "            print(\"1. Open Account\")\n",
    "            print(\"2. Deposit Money\")\n",
    "            print(\"3. Withdraw Money\")\n",
    "            print(\"4. Transfer Money\")\n",
    "            print(\"5. Check Balance\")\n",
    "            print(\"6. Print Statement\")\n",
    "            print(\"7. Admin Functions\")\n",
    "            print(\"8. Exit\")\n",
    "\n",
    "            choice = input(\"Please enter your choice: \")\n",
    "\n",
    "            if choice == '1':\n",
    "                account_holder = input(\"Enter account holder name: \")\n",
    "                account = self.open_account(account_holder)\n",
    "            elif choice == '2':\n",
    "                account_number = int(input(\"Enter account number: \"))\n",
    "                amount = float(input(\"Enter amount to deposit: \"))\n",
    "                account = self.get_account(account_number)\n",
    "                if account:\n",
    "                    account.deposit(amount)\n",
    "                else:\n",
    "                    print(\"Account not found.\")\n",
    "            elif choice == '3':\n",
    "                account_number = int(input(\"Enter account number: \"))\n",
    "                amount = float(input(\"Enter amount to withdraw: \"))\n",
    "                account = self.get_account(account_number)\n",
    "                if account:\n",
    "                    account.withdraw(amount)\n",
    "                else:\n",
    "                    print(\"Account not found.\")\n",
    "            elif choice == '4':\n",
    "                sender_account_number = int(input(\"Enter sender account number: \"))\n",
    "                receiver_account_number = int(input(\"Enter receiver account number: \"))\n",
    "                amount = float(input(\"Enter amount to transfer: \"))\n",
    "                self.transfer(sender_account_number, receiver_account_number, amount)\n",
    "            elif choice == '5':\n",
    "                account_number = int(input(\"Enter account number: \"))\n",
    "                account = self.get_account(account_number)\n",
    "                if account:\n",
    "                    print(f\"Balance for Account {account_number}: RS{account.check_balance():.2f}\")\n",
    "                else:\n",
    "                    print(\"Account not found.\")\n",
    "            elif choice == '6':\n",
    "                account_number = int(input(\"Enter account number: \"))\n",
    "                account = self.get_account(account_number)\n",
    "                if account:\n",
    "                    account.print_statement()\n",
    "                else:\n",
    "                    print(\"Account not found.\")\n",
    "            elif choice == '7':\n",
    "                print(\"\\nAdmin Functions\")\n",
    "                print(\"1. Check Total Deposit\")\n",
    "                print(\"2. Check Total Accounts\")\n",
    "                admin_choice = input(\"Please enter your choice: \")\n",
    "                if admin_choice == '1':\n",
    "                    print(f\"Total deposit in the bank: RS{self.admin_check_total_deposit():.2f}\")\n",
    "                elif admin_choice == '2':\n",
    "                    print(f\"Total number of accounts in the bank: {self.admin_check_total_accounts()}\")\n",
    "                else:\n",
    "                    print(\"Invalid choice.\")\n",
    "            elif choice == '8':\n",
    "                print(\"Thanks for using SMIT Bank... Goodbye!\")\n",
    "                print(\" BE carefull our officil number is #2222\")\n",
    "                break\n",
    "            else:\n",
    "                print(\"Invalid choice, please try again.\")\n",
    "\n",
    "bank = Bank()\n",
    "bank.menu()\n"
   ]
  },
  {
   "cell_type": "code",
   "execution_count": null,
   "id": "3528bc09-d6f6-45fc-80ce-885c74a63be0",
   "metadata": {},
   "outputs": [],
   "source": []
  }
 ],
 "metadata": {
  "kernelspec": {
   "display_name": "Python 3 (ipykernel)",
   "language": "python",
   "name": "python3"
  },
  "language_info": {
   "codemirror_mode": {
    "name": "ipython",
    "version": 3
   },
   "file_extension": ".py",
   "mimetype": "text/x-python",
   "name": "python",
   "nbconvert_exporter": "python",
   "pygments_lexer": "ipython3",
   "version": "3.12.7"
  }
 },
 "nbformat": 4,
 "nbformat_minor": 5
}
